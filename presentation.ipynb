{
 "cells": [
  {
   "cell_type": "markdown",
   "id": "a7ffd131",
   "metadata": {},
   "source": [
    "## **Explosive weapons Incidents: Phase 3 Project**\n"
   ]
  },
  {
   "cell_type": "markdown",
   "id": "ffe65704",
   "metadata": {},
   "source": [
    "### **Author**: ALEX MWERA"
   ]
  },
  {
   "cell_type": "markdown",
   "id": "e94cbf16",
   "metadata": {},
   "source": [
    "### **Stakeholders & Main Problem**\n",
    "\n",
    "My main stakeholder is humanitarian organizations like the UN and the Red Cross, who work to protect civilians in conflict zones. In this project, I aim to predict the type of explosive weapon used in attacks based on factors like location, sector affected, and the reported perpetrator. This can help improve early warnings, emergency response, and advocacy against the use of heavy weapons in populated areas."
   ]
  },
  {
   "cell_type": "markdown",
   "id": "a3e97547",
   "metadata": {},
   "source": [
    "### **Data Understanding and Preparation**\n",
    "Data on explosive weapons incidents in 2025 was provided in a single file. The dataset contains detailed records of attacks involving explosive weapons, including information on the location, sector affected, reported perpetrator, and the type of weapon used.\n",
    "\n",
    "While the dataset includes some impact data like whether aid workers or health workers were killed many of these fields had large amounts of missing values and were excluded from the analysis. These can be revisited and added in future work. For now, the focus remains on cleaning, encoding, and preparing key features that can help predict the type of explosive weapon used."
   ]
  },
  {
   "cell_type": "markdown",
   "id": "f0ec634e",
   "metadata": {},
   "source": [
    "### **Import datasets**\n",
    "The dataset used in this project was downloaded from the Humanitarian Data Exchange (HDX) and contains records of explosive weapons incidents that occurred in 2025. It includes key fields such as country, sector affected, reported perpetrator, and the type of explosive weapon used (which is the target variable in this project).\n",
    "\n",
    "Dataset located at:\n",
    "    https://data.humdata.org/dataset/729040e4-e253-44ca-b265-123d452738d6/resource/16f9803e-1831-4097-a99c-0c57ee7e34c6/download/2025-explosive-weapons-incident-data.xlsx"
   ]
  },
  {
   "cell_type": "markdown",
   "id": "929d6032",
   "metadata": {},
   "source": [
    "#### Load Dependencies"
   ]
  },
  {
   "cell_type": "code",
   "execution_count": 25,
   "id": "605aa6a5",
   "metadata": {},
   "outputs": [],
   "source": [
    "import pandas as pd \n",
    "import matplotlib.pyplot as plt\n",
    "import seaborn as sns\n",
    "from sklearn.preprocessing import OneHotEncoder,LabelEncoder\n",
    "from sklearn .model_selection import train_test_split\n",
    "from sklearn.metrics import accuracy_score,classification_report\n",
    "from sklearn.linear_model import LogisticRegression\n",
    "from sklearn.ensemble import RandomForestClassifier\n",
    "from sklearn.tree import DecisionTreeClassifier"
   ]
  },
  {
   "cell_type": "markdown",
   "id": "a13da33f",
   "metadata": {},
   "source": [
    "#### Loading the Excel dataset and Converting it to dataframe"
   ]
  },
  {
   "cell_type": "code",
   "execution_count": 26,
   "id": "ff22a03f",
   "metadata": {},
   "outputs": [
    {
     "data": {
      "text/plain": [
       "(219, 22)"
      ]
     },
     "execution_count": 26,
     "metadata": {},
     "output_type": "execute_result"
    }
   ],
   "source": [
    "df_Explosive_weapons= pd.read_excel('2025-explosive-weapons-incident-data.xlsx')\n",
    "df_Explosive_weapons.shape"
   ]
  },
  {
   "cell_type": "code",
   "execution_count": 27,
   "id": "7dd8a4e8",
   "metadata": {},
   "outputs": [
    {
     "data": {
      "text/html": [
       "<div>\n",
       "<style scoped>\n",
       "    .dataframe tbody tr th:only-of-type {\n",
       "        vertical-align: middle;\n",
       "    }\n",
       "\n",
       "    .dataframe tbody tr th {\n",
       "        vertical-align: top;\n",
       "    }\n",
       "\n",
       "    .dataframe thead th {\n",
       "        text-align: right;\n",
       "    }\n",
       "</style>\n",
       "<table border=\"1\" class=\"dataframe\">\n",
       "  <thead>\n",
       "    <tr style=\"text-align: right;\">\n",
       "      <th></th>\n",
       "      <th>Date</th>\n",
       "      <th>Event Description</th>\n",
       "      <th>Country</th>\n",
       "      <th>Country ISO</th>\n",
       "      <th>Admin 1</th>\n",
       "      <th>Latitude</th>\n",
       "      <th>Longitude</th>\n",
       "      <th>Geo Precision</th>\n",
       "      <th>Sector Affected</th>\n",
       "      <th>Provider</th>\n",
       "      <th>...</th>\n",
       "      <th>Reported Perpetrator</th>\n",
       "      <th>Reported Perpetrator Name</th>\n",
       "      <th>Affected</th>\n",
       "      <th>Aid Workers Killed</th>\n",
       "      <th>Health Workers Killed</th>\n",
       "      <th>Aid Health Workers Killed</th>\n",
       "      <th>Educators Killed</th>\n",
       "      <th>Students Killed</th>\n",
       "      <th>Food Security</th>\n",
       "      <th>SiND Event ID</th>\n",
       "    </tr>\n",
       "  </thead>\n",
       "  <tbody>\n",
       "    <tr>\n",
       "      <th>0</th>\n",
       "      <td>2025-04-17</td>\n",
       "      <td>NaN</td>\n",
       "      <td>Ukraine</td>\n",
       "      <td>UKR</td>\n",
       "      <td>Donetsk Oblast</td>\n",
       "      <td>47.1</td>\n",
       "      <td>37.5</td>\n",
       "      <td>(2) 25 km Precision</td>\n",
       "      <td>Health Care</td>\n",
       "      <td>Local Health Care Provider</td>\n",
       "      <td>...</td>\n",
       "      <td>No Information</td>\n",
       "      <td>Unidentified Armed Actor</td>\n",
       "      <td>Health Infrastructure</td>\n",
       "      <td>NaN</td>\n",
       "      <td>NaN</td>\n",
       "      <td>NaN</td>\n",
       "      <td>NaN</td>\n",
       "      <td>NaN</td>\n",
       "      <td>NaN</td>\n",
       "      <td>94309</td>\n",
       "    </tr>\n",
       "    <tr>\n",
       "      <th>1</th>\n",
       "      <td>2025-03-27</td>\n",
       "      <td>NaN</td>\n",
       "      <td>Ukraine</td>\n",
       "      <td>UKR</td>\n",
       "      <td>Kherson Oblast</td>\n",
       "      <td>46.6</td>\n",
       "      <td>32.6</td>\n",
       "      <td>(2) 25 km Precision</td>\n",
       "      <td>Health Care</td>\n",
       "      <td>Local Health Care Provider</td>\n",
       "      <td>...</td>\n",
       "      <td>Foreign Forces: Military</td>\n",
       "      <td>Armed Forces of the Russian Federation</td>\n",
       "      <td>Health Infrastructure</td>\n",
       "      <td>NaN</td>\n",
       "      <td>NaN</td>\n",
       "      <td>NaN</td>\n",
       "      <td>NaN</td>\n",
       "      <td>NaN</td>\n",
       "      <td>NaN</td>\n",
       "      <td>93618</td>\n",
       "    </tr>\n",
       "    <tr>\n",
       "      <th>2</th>\n",
       "      <td>2025-03-24</td>\n",
       "      <td>NaN</td>\n",
       "      <td>Ukraine</td>\n",
       "      <td>UKR</td>\n",
       "      <td>Sumy Oblast</td>\n",
       "      <td>50.9</td>\n",
       "      <td>34.8</td>\n",
       "      <td>(2) 25 km Precision</td>\n",
       "      <td>Health Care</td>\n",
       "      <td>Local Health Care Provider</td>\n",
       "      <td>...</td>\n",
       "      <td>Foreign Forces: Military</td>\n",
       "      <td>Armed Forces of the Russian Federation</td>\n",
       "      <td>Health Infrastructure</td>\n",
       "      <td>NaN</td>\n",
       "      <td>NaN</td>\n",
       "      <td>NaN</td>\n",
       "      <td>NaN</td>\n",
       "      <td>NaN</td>\n",
       "      <td>NaN</td>\n",
       "      <td>93617</td>\n",
       "    </tr>\n",
       "    <tr>\n",
       "      <th>3</th>\n",
       "      <td>2025-03-24</td>\n",
       "      <td>NaN</td>\n",
       "      <td>OPT</td>\n",
       "      <td>PSE</td>\n",
       "      <td>Gaza Strip</td>\n",
       "      <td>NaN</td>\n",
       "      <td>NaN</td>\n",
       "      <td>censored</td>\n",
       "      <td>Health Care, Aid Operations</td>\n",
       "      <td>Red Cross (ICRC or IFRC)</td>\n",
       "      <td>...</td>\n",
       "      <td>Host Government: Military</td>\n",
       "      <td>Israeli Defence Forces</td>\n",
       "      <td>Aid Infrastructure</td>\n",
       "      <td>NaN</td>\n",
       "      <td>NaN</td>\n",
       "      <td>NaN</td>\n",
       "      <td>NaN</td>\n",
       "      <td>NaN</td>\n",
       "      <td>NaN</td>\n",
       "      <td>94277</td>\n",
       "    </tr>\n",
       "    <tr>\n",
       "      <th>4</th>\n",
       "      <td>2025-03-23</td>\n",
       "      <td>NaN</td>\n",
       "      <td>OPT</td>\n",
       "      <td>PSE</td>\n",
       "      <td>Gaza Strip</td>\n",
       "      <td>NaN</td>\n",
       "      <td>NaN</td>\n",
       "      <td>censored</td>\n",
       "      <td>Health Care, Protection</td>\n",
       "      <td>IDP/Refugee Service, Local Health Care Provider</td>\n",
       "      <td>...</td>\n",
       "      <td>Host Government: Military</td>\n",
       "      <td>Israeli Defence Forces</td>\n",
       "      <td>Health Infrastructure</td>\n",
       "      <td>NaN</td>\n",
       "      <td>NaN</td>\n",
       "      <td>NaN</td>\n",
       "      <td>NaN</td>\n",
       "      <td>NaN</td>\n",
       "      <td>NaN</td>\n",
       "      <td>93625</td>\n",
       "    </tr>\n",
       "  </tbody>\n",
       "</table>\n",
       "<p>5 rows × 22 columns</p>\n",
       "</div>"
      ],
      "text/plain": [
       "        Date  Event Description  Country Country ISO         Admin 1  \\\n",
       "0 2025-04-17                NaN  Ukraine         UKR  Donetsk Oblast   \n",
       "1 2025-03-27                NaN  Ukraine         UKR  Kherson Oblast   \n",
       "2 2025-03-24                NaN  Ukraine         UKR     Sumy Oblast   \n",
       "3 2025-03-24                NaN      OPT         PSE      Gaza Strip   \n",
       "4 2025-03-23                NaN      OPT         PSE      Gaza Strip   \n",
       "\n",
       "   Latitude  Longitude         Geo Precision              Sector Affected  \\\n",
       "0      47.1       37.5  (2) 25 km Precision                   Health Care   \n",
       "1      46.6       32.6  (2) 25 km Precision                   Health Care   \n",
       "2      50.9       34.8  (2) 25 km Precision                   Health Care   \n",
       "3       NaN        NaN              censored  Health Care, Aid Operations   \n",
       "4       NaN        NaN              censored      Health Care, Protection   \n",
       "\n",
       "                                          Provider  ...  \\\n",
       "0                       Local Health Care Provider  ...   \n",
       "1                       Local Health Care Provider  ...   \n",
       "2                       Local Health Care Provider  ...   \n",
       "3                         Red Cross (ICRC or IFRC)  ...   \n",
       "4  IDP/Refugee Service, Local Health Care Provider  ...   \n",
       "\n",
       "        Reported Perpetrator               Reported Perpetrator Name  \\\n",
       "0             No Information                Unidentified Armed Actor   \n",
       "1   Foreign Forces: Military  Armed Forces of the Russian Federation   \n",
       "2   Foreign Forces: Military  Armed Forces of the Russian Federation   \n",
       "3  Host Government: Military                  Israeli Defence Forces   \n",
       "4  Host Government: Military                  Israeli Defence Forces   \n",
       "\n",
       "                Affected Aid Workers Killed Health Workers Killed  \\\n",
       "0  Health Infrastructure                NaN                   NaN   \n",
       "1  Health Infrastructure                NaN                   NaN   \n",
       "2  Health Infrastructure                NaN                   NaN   \n",
       "3     Aid Infrastructure                NaN                   NaN   \n",
       "4  Health Infrastructure                NaN                   NaN   \n",
       "\n",
       "   Aid Health Workers Killed  Educators Killed  Students Killed  \\\n",
       "0                        NaN               NaN              NaN   \n",
       "1                        NaN               NaN              NaN   \n",
       "2                        NaN               NaN              NaN   \n",
       "3                        NaN               NaN              NaN   \n",
       "4                        NaN               NaN              NaN   \n",
       "\n",
       "   Food Security  SiND Event ID  \n",
       "0            NaN          94309  \n",
       "1            NaN          93618  \n",
       "2            NaN          93617  \n",
       "3            NaN          94277  \n",
       "4            NaN          93625  \n",
       "\n",
       "[5 rows x 22 columns]"
      ]
     },
     "execution_count": 27,
     "metadata": {},
     "output_type": "execute_result"
    }
   ],
   "source": [
    "df_Explosive_weapons.head()"
   ]
  },
  {
   "cell_type": "code",
   "execution_count": 28,
   "id": "6c54972b",
   "metadata": {},
   "outputs": [
    {
     "data": {
      "text/html": [
       "<div>\n",
       "<style scoped>\n",
       "    .dataframe tbody tr th:only-of-type {\n",
       "        vertical-align: middle;\n",
       "    }\n",
       "\n",
       "    .dataframe tbody tr th {\n",
       "        vertical-align: top;\n",
       "    }\n",
       "\n",
       "    .dataframe thead th {\n",
       "        text-align: right;\n",
       "    }\n",
       "</style>\n",
       "<table border=\"1\" class=\"dataframe\">\n",
       "  <thead>\n",
       "    <tr style=\"text-align: right;\">\n",
       "      <th></th>\n",
       "      <th>Date</th>\n",
       "      <th>Event Description</th>\n",
       "      <th>Latitude</th>\n",
       "      <th>Longitude</th>\n",
       "      <th>Aid Workers Killed</th>\n",
       "      <th>Health Workers Killed</th>\n",
       "      <th>Aid Health Workers Killed</th>\n",
       "      <th>Educators Killed</th>\n",
       "      <th>Students Killed</th>\n",
       "      <th>Food Security</th>\n",
       "      <th>SiND Event ID</th>\n",
       "    </tr>\n",
       "  </thead>\n",
       "  <tbody>\n",
       "    <tr>\n",
       "      <th>count</th>\n",
       "      <td>219</td>\n",
       "      <td>0.0</td>\n",
       "      <td>146.000000</td>\n",
       "      <td>146.00000</td>\n",
       "      <td>9.000000</td>\n",
       "      <td>14.000000</td>\n",
       "      <td>5.0</td>\n",
       "      <td>1.0</td>\n",
       "      <td>2.0</td>\n",
       "      <td>0.0</td>\n",
       "      <td>219.000000</td>\n",
       "    </tr>\n",
       "    <tr>\n",
       "      <th>mean</th>\n",
       "      <td>2025-01-24 22:14:47.671232768</td>\n",
       "      <td>NaN</td>\n",
       "      <td>32.257534</td>\n",
       "      <td>52.80411</td>\n",
       "      <td>2.333333</td>\n",
       "      <td>1.142857</td>\n",
       "      <td>1.0</td>\n",
       "      <td>1.0</td>\n",
       "      <td>1.0</td>\n",
       "      <td>NaN</td>\n",
       "      <td>90737.607306</td>\n",
       "    </tr>\n",
       "    <tr>\n",
       "      <th>min</th>\n",
       "      <td>2025-01-02 00:00:00</td>\n",
       "      <td>NaN</td>\n",
       "      <td>-1.600000</td>\n",
       "      <td>7.30000</td>\n",
       "      <td>1.000000</td>\n",
       "      <td>1.000000</td>\n",
       "      <td>1.0</td>\n",
       "      <td>1.0</td>\n",
       "      <td>1.0</td>\n",
       "      <td>NaN</td>\n",
       "      <td>87265.000000</td>\n",
       "    </tr>\n",
       "    <tr>\n",
       "      <th>25%</th>\n",
       "      <td>2025-01-09 00:00:00</td>\n",
       "      <td>NaN</td>\n",
       "      <td>19.800000</td>\n",
       "      <td>33.52500</td>\n",
       "      <td>1.000000</td>\n",
       "      <td>1.000000</td>\n",
       "      <td>1.0</td>\n",
       "      <td>1.0</td>\n",
       "      <td>1.0</td>\n",
       "      <td>NaN</td>\n",
       "      <td>88724.500000</td>\n",
       "    </tr>\n",
       "    <tr>\n",
       "      <th>50%</th>\n",
       "      <td>2025-01-18 00:00:00</td>\n",
       "      <td>NaN</td>\n",
       "      <td>35.500000</td>\n",
       "      <td>37.60000</td>\n",
       "      <td>1.000000</td>\n",
       "      <td>1.000000</td>\n",
       "      <td>1.0</td>\n",
       "      <td>1.0</td>\n",
       "      <td>1.0</td>\n",
       "      <td>NaN</td>\n",
       "      <td>90243.000000</td>\n",
       "    </tr>\n",
       "    <tr>\n",
       "      <th>75%</th>\n",
       "      <td>2025-02-01 00:00:00</td>\n",
       "      <td>NaN</td>\n",
       "      <td>48.200000</td>\n",
       "      <td>93.70000</td>\n",
       "      <td>2.000000</td>\n",
       "      <td>1.000000</td>\n",
       "      <td>1.0</td>\n",
       "      <td>1.0</td>\n",
       "      <td>1.0</td>\n",
       "      <td>NaN</td>\n",
       "      <td>92684.500000</td>\n",
       "    </tr>\n",
       "    <tr>\n",
       "      <th>max</th>\n",
       "      <td>2025-04-17 00:00:00</td>\n",
       "      <td>NaN</td>\n",
       "      <td>52.100000</td>\n",
       "      <td>99.00000</td>\n",
       "      <td>8.000000</td>\n",
       "      <td>3.000000</td>\n",
       "      <td>1.0</td>\n",
       "      <td>1.0</td>\n",
       "      <td>1.0</td>\n",
       "      <td>NaN</td>\n",
       "      <td>95242.000000</td>\n",
       "    </tr>\n",
       "    <tr>\n",
       "      <th>std</th>\n",
       "      <td>NaN</td>\n",
       "      <td>NaN</td>\n",
       "      <td>15.684910</td>\n",
       "      <td>28.14083</td>\n",
       "      <td>2.500000</td>\n",
       "      <td>0.534522</td>\n",
       "      <td>0.0</td>\n",
       "      <td>NaN</td>\n",
       "      <td>0.0</td>\n",
       "      <td>NaN</td>\n",
       "      <td>2246.271300</td>\n",
       "    </tr>\n",
       "  </tbody>\n",
       "</table>\n",
       "</div>"
      ],
      "text/plain": [
       "                                Date  Event Description    Latitude  \\\n",
       "count                            219                0.0  146.000000   \n",
       "mean   2025-01-24 22:14:47.671232768                NaN   32.257534   \n",
       "min              2025-01-02 00:00:00                NaN   -1.600000   \n",
       "25%              2025-01-09 00:00:00                NaN   19.800000   \n",
       "50%              2025-01-18 00:00:00                NaN   35.500000   \n",
       "75%              2025-02-01 00:00:00                NaN   48.200000   \n",
       "max              2025-04-17 00:00:00                NaN   52.100000   \n",
       "std                              NaN                NaN   15.684910   \n",
       "\n",
       "       Longitude  Aid Workers Killed  Health Workers Killed  \\\n",
       "count  146.00000            9.000000              14.000000   \n",
       "mean    52.80411            2.333333               1.142857   \n",
       "min      7.30000            1.000000               1.000000   \n",
       "25%     33.52500            1.000000               1.000000   \n",
       "50%     37.60000            1.000000               1.000000   \n",
       "75%     93.70000            2.000000               1.000000   \n",
       "max     99.00000            8.000000               3.000000   \n",
       "std     28.14083            2.500000               0.534522   \n",
       "\n",
       "       Aid Health Workers Killed  Educators Killed  Students Killed  \\\n",
       "count                        5.0               1.0              2.0   \n",
       "mean                         1.0               1.0              1.0   \n",
       "min                          1.0               1.0              1.0   \n",
       "25%                          1.0               1.0              1.0   \n",
       "50%                          1.0               1.0              1.0   \n",
       "75%                          1.0               1.0              1.0   \n",
       "max                          1.0               1.0              1.0   \n",
       "std                          0.0               NaN              0.0   \n",
       "\n",
       "       Food Security  SiND Event ID  \n",
       "count            0.0     219.000000  \n",
       "mean             NaN   90737.607306  \n",
       "min              NaN   87265.000000  \n",
       "25%              NaN   88724.500000  \n",
       "50%              NaN   90243.000000  \n",
       "75%              NaN   92684.500000  \n",
       "max              NaN   95242.000000  \n",
       "std              NaN    2246.271300  "
      ]
     },
     "execution_count": 28,
     "metadata": {},
     "output_type": "execute_result"
    }
   ],
   "source": [
    "df_Explosive_weapons.describe()"
   ]
  },
  {
   "cell_type": "code",
   "execution_count": 29,
   "id": "d88bedde",
   "metadata": {},
   "outputs": [
    {
     "name": "stdout",
     "output_type": "stream",
     "text": [
      "<class 'pandas.core.frame.DataFrame'>\n",
      "RangeIndex: 219 entries, 0 to 218\n",
      "Data columns (total 22 columns):\n",
      " #   Column                     Non-Null Count  Dtype         \n",
      "---  ------                     --------------  -----         \n",
      " 0   Date                       219 non-null    datetime64[ns]\n",
      " 1   Event Description          0 non-null      float64       \n",
      " 2   Country                    219 non-null    object        \n",
      " 3   Country ISO                219 non-null    object        \n",
      " 4   Admin 1                    219 non-null    object        \n",
      " 5   Latitude                   146 non-null    float64       \n",
      " 6   Longitude                  146 non-null    float64       \n",
      " 7   Geo Precision              218 non-null    object        \n",
      " 8   Sector Affected            219 non-null    object        \n",
      " 9   Provider                   219 non-null    object        \n",
      " 10  Launch Type                218 non-null    object        \n",
      " 11  Explosive Weapon Type      219 non-null    object        \n",
      " 12  Reported Perpetrator       219 non-null    object        \n",
      " 13  Reported Perpetrator Name  219 non-null    object        \n",
      " 14  Affected                   219 non-null    object        \n",
      " 15  Aid Workers Killed         9 non-null      float64       \n",
      " 16  Health Workers Killed      14 non-null     float64       \n",
      " 17  Aid Health Workers Killed  5 non-null      float64       \n",
      " 18  Educators Killed           1 non-null      float64       \n",
      " 19  Students Killed            2 non-null      float64       \n",
      " 20  Food Security              0 non-null      float64       \n",
      " 21  SiND Event ID              219 non-null    int64         \n",
      "dtypes: datetime64[ns](1), float64(9), int64(1), object(11)\n",
      "memory usage: 37.8+ KB\n"
     ]
    }
   ],
   "source": [
    "df_Explosive_weapons.info()"
   ]
  },
  {
   "cell_type": "markdown",
   "id": "73f4b7e5",
   "metadata": {},
   "source": [
    "### Data cleaning"
   ]
  },
  {
   "cell_type": "markdown",
   "id": "92c0e102",
   "metadata": {},
   "source": [
    "#### Exploring the number of missing data"
   ]
  },
  {
   "cell_type": "code",
   "execution_count": 30,
   "id": "059d582f",
   "metadata": {},
   "outputs": [
    {
     "data": {
      "text/plain": [
       "Date                           0\n",
       "Event Description            219\n",
       "Country                        0\n",
       "Country ISO                    0\n",
       "Admin 1                        0\n",
       "Latitude                      73\n",
       "Longitude                     73\n",
       "Geo Precision                  1\n",
       "Sector Affected                0\n",
       "Provider                       0\n",
       "Launch Type                    1\n",
       "Explosive Weapon Type          0\n",
       "Reported Perpetrator           0\n",
       "Reported Perpetrator Name      0\n",
       "Affected                       0\n",
       "Aid Workers Killed           210\n",
       "Health Workers Killed        205\n",
       "Aid Health Workers Killed    214\n",
       "Educators Killed             218\n",
       "Students Killed              217\n",
       "Food Security                219\n",
       "SiND Event ID                  0\n",
       "dtype: int64"
      ]
     },
     "execution_count": 30,
     "metadata": {},
     "output_type": "execute_result"
    }
   ],
   "source": [
    "df_Explosive_weapons.isnull().sum()"
   ]
  },
  {
   "cell_type": "code",
   "execution_count": 31,
   "id": "db866aa4",
   "metadata": {},
   "outputs": [
    {
     "data": {
      "text/plain": [
       "(219, 22)"
      ]
     },
     "execution_count": 31,
     "metadata": {},
     "output_type": "execute_result"
    }
   ],
   "source": [
    "df_Explosive_weapons.shape"
   ]
  },
  {
   "cell_type": "code",
   "execution_count": 32,
   "id": "fe1c018b",
   "metadata": {},
   "outputs": [],
   "source": [
    "df_Explosive_weapons = df_Explosive_weapons.drop(columns=['Event Description','Aid Workers Killed','Health Workers Killed','Aid Health Workers Killed','Educators Killed','Students Killed','Food Security'],axis=1)"
   ]
  },
  {
   "cell_type": "code",
   "execution_count": 33,
   "id": "998d58fb",
   "metadata": {},
   "outputs": [
    {
     "data": {
      "text/plain": [
       "Date                          0\n",
       "Country                       0\n",
       "Country ISO                   0\n",
       "Admin 1                       0\n",
       "Latitude                     73\n",
       "Longitude                    73\n",
       "Geo Precision                 1\n",
       "Sector Affected               0\n",
       "Provider                      0\n",
       "Launch Type                   1\n",
       "Explosive Weapon Type         0\n",
       "Reported Perpetrator          0\n",
       "Reported Perpetrator Name     0\n",
       "Affected                      0\n",
       "SiND Event ID                 0\n",
       "dtype: int64"
      ]
     },
     "execution_count": 33,
     "metadata": {},
     "output_type": "execute_result"
    }
   ],
   "source": [
    "df_Explosive_weapons.isnull().sum()"
   ]
  },
  {
   "cell_type": "code",
   "execution_count": 34,
   "id": "3452b38f",
   "metadata": {},
   "outputs": [],
   "source": [
    "#Filling the latitude and longitude with there mean\n",
    "df_Explosive_weapons['Latitude'] = df_Explosive_weapons['Latitude'].fillna(df_Explosive_weapons['Latitude'].mean)\n",
    "df_Explosive_weapons['Longitude'] = df_Explosive_weapons['Longitude'].fillna(df_Explosive_weapons['Longitude'].mean)"
   ]
  },
  {
   "cell_type": "code",
   "execution_count": 35,
   "id": "6a617e83",
   "metadata": {},
   "outputs": [
    {
     "name": "stderr",
     "output_type": "stream",
     "text": [
      "/tmp/ipykernel_77488/1801568701.py:2: FutureWarning: Series.fillna with 'method' is deprecated and will raise in a future version. Use obj.ffill() or obj.bfill() instead.\n",
      "  df_Explosive_weapons['Geo Precision'] = df_Explosive_weapons['Geo Precision'].fillna(method='ffill')\n"
     ]
    }
   ],
   "source": [
    "#Filling the empty space in Geo Precision with forward fill\n",
    "df_Explosive_weapons['Geo Precision'] = df_Explosive_weapons['Geo Precision'].fillna(method='ffill')"
   ]
  },
  {
   "cell_type": "code",
   "execution_count": 36,
   "id": "6234b146",
   "metadata": {},
   "outputs": [],
   "source": [
    "#Filling the launch type with unknown\n",
    "df_Explosive_weapons['Launch Type'] = df_Explosive_weapons['Launch Type'].fillna('Unknown')"
   ]
  },
  {
   "cell_type": "code",
   "execution_count": 37,
   "id": "e6bb1ac2",
   "metadata": {},
   "outputs": [
    {
     "data": {
      "text/plain": [
       "0"
      ]
     },
     "execution_count": 37,
     "metadata": {},
     "output_type": "execute_result"
    }
   ],
   "source": [
    "df_Explosive_weapons.duplicated().sum()"
   ]
  },
  {
   "cell_type": "markdown",
   "id": "505bedc6",
   "metadata": {},
   "source": [
    "#### Investigating the distribution of the target"
   ]
  },
  {
   "cell_type": "code",
   "execution_count": 49,
   "id": "df9f61a8",
   "metadata": {},
   "outputs": [
    {
     "data": {
      "text/plain": [
       "Explosive Weapon Type\n",
       "Aerial Bomb              148\n",
       "Shelling                  30\n",
       "Unspecified Explosive     14\n",
       "Artillery                 12\n",
       "Missile                    4\n",
       "Rocket                     3\n",
       "Hand Grenade               2\n",
       "Mine                       2\n",
       "Mortar                     1\n",
       "VBIED                      1\n",
       "RPG                        1\n",
       "Unspecified IED            1\n",
       "Name: count, dtype: int64"
      ]
     },
     "execution_count": 49,
     "metadata": {},
     "output_type": "execute_result"
    }
   ],
   "source": [
    "df_Explosive_weapons['Explosive Weapon Type'].value_counts()"
   ]
  },
  {
   "cell_type": "markdown",
   "id": "47b982cb",
   "metadata": {},
   "source": [
    "### Visualization "
   ]
  },
  {
   "cell_type": "code",
   "execution_count": 38,
   "id": "91f72c0c",
   "metadata": {},
   "outputs": [
    {
     "data": {
      "text/plain": [
       "Text(0.5, 1.0, 'Types of explosive weapons and count')"
      ]
     },
     "execution_count": 38,
     "metadata": {},
     "output_type": "execute_result"
    },
    {
     "data": {
      "image/png": "[encoded data removed]",
      "text/plain": [
       "<Figure size 640x480 with 1 Axes>"
      ]
     },
     "metadata": {},
     "output_type": "display_data"
    }
   ],
   "source": [
    "plt.Figure(figsize=(12,6))\n",
    "plt.subplot(2, 3, 4)\n",
    "Eplosive_wapons_count = df_Explosive_weapons[\"Explosive Weapon Type\"].value_counts().head(10)\n",
    "sns.barplot(y=Eplosive_wapons_count.index, x=Eplosive_wapons_count.values, color=\"darkgreen\")\n",
    "plt.title(\"Types of explosive weapons and count\")"
   ]
  },
  {
   "cell_type": "code",
   "execution_count": 39,
   "id": "8d1f462e",
   "metadata": {},
   "outputs": [
    {
     "data": {
      "image/png": "[encoded data removed]",
      "text/plain": [
       "<Figure size 640x480 with 1 Axes>"
      ]
     },
     "metadata": {},
     "output_type": "display_data"
    }
   ],
   "source": [
    "plt.Figure(figsize=(12,15))\n",
    "plt.bar(x=df_Explosive_weapons['Explosive Weapon Type'], height=df_Explosive_weapons['Sector Affected'])\n",
    "plt.show()"
   ]
  },
  {
   "cell_type": "code",
   "execution_count": null,
   "id": "645cd392",
   "metadata": {},
   "outputs": [],
   "source": []
  },
  {
   "cell_type": "markdown",
   "id": "a1899067",
   "metadata": {},
   "source": [
    "### Creating a Model"
   ]
  },
  {
   "cell_type": "code",
   "execution_count": 40,
   "id": "6cfc9575",
   "metadata": {},
   "outputs": [],
   "source": [
    "y=df_Explosive_weapons['Explosive Weapon Type']\n",
    "X=df_Explosive_weapons.drop(['Explosive Weapon Type'],axis=1)"
   ]
  },
  {
   "cell_type": "code",
   "execution_count": 41,
   "id": "bc5490b1",
   "metadata": {},
   "outputs": [],
   "source": [
    "le=LabelEncoder()\n",
    "y_encoded=le.fit_transform(y)\n",
    "\n",
    "X_encoded = pd.get_dummies(X,drop_first=True).astype (int)"
   ]
  },
  {
   "cell_type": "code",
   "execution_count": 42,
   "id": "2702f03b",
   "metadata": {},
   "outputs": [
    {
     "data": {
      "text/html": [
       "<div>\n",
       "<style scoped>\n",
       "    .dataframe tbody tr th:only-of-type {\n",
       "        vertical-align: middle;\n",
       "    }\n",
       "\n",
       "    .dataframe tbody tr th {\n",
       "        vertical-align: top;\n",
       "    }\n",
       "\n",
       "    .dataframe thead th {\n",
       "        text-align: right;\n",
       "    }\n",
       "</style>\n",
       "<table border=\"1\" class=\"dataframe\">\n",
       "  <thead>\n",
       "    <tr style=\"text-align: right;\">\n",
       "      <th></th>\n",
       "      <th>Date</th>\n",
       "      <th>SiND Event ID</th>\n",
       "      <th>Country_DRC</th>\n",
       "      <th>Country_Ethiopia</th>\n",
       "      <th>Country_Israel</th>\n",
       "      <th>Country_Myanmar</th>\n",
       "      <th>Country_Nigeria</th>\n",
       "      <th>Country_OPT</th>\n",
       "      <th>Country_Russia</th>\n",
       "      <th>Country_Sudan</th>\n",
       "      <th>...</th>\n",
       "      <th>Reported Perpetrator Name_Sudan People's Liberation Movement - North</th>\n",
       "      <th>Reported Perpetrator Name_Syrian National Army (SNA)</th>\n",
       "      <th>Reported Perpetrator Name_Unidentified Armed Actor</th>\n",
       "      <th>Affected_Education Infrastructure</th>\n",
       "      <th>Affected_Food Infrastructure</th>\n",
       "      <th>Affected_Health Infrastructure</th>\n",
       "      <th>Affected_Health Worker</th>\n",
       "      <th>Affected_Multiple</th>\n",
       "      <th>Affected_Other</th>\n",
       "      <th>Affected_Protection Infrastructure</th>\n",
       "    </tr>\n",
       "  </thead>\n",
       "  <tbody>\n",
       "    <tr>\n",
       "      <th>0</th>\n",
       "      <td>1744848000000000000</td>\n",
       "      <td>94309</td>\n",
       "      <td>0</td>\n",
       "      <td>0</td>\n",
       "      <td>0</td>\n",
       "      <td>0</td>\n",
       "      <td>0</td>\n",
       "      <td>0</td>\n",
       "      <td>0</td>\n",
       "      <td>0</td>\n",
       "      <td>...</td>\n",
       "      <td>0</td>\n",
       "      <td>0</td>\n",
       "      <td>1</td>\n",
       "      <td>0</td>\n",
       "      <td>0</td>\n",
       "      <td>1</td>\n",
       "      <td>0</td>\n",
       "      <td>0</td>\n",
       "      <td>0</td>\n",
       "      <td>0</td>\n",
       "    </tr>\n",
       "    <tr>\n",
       "      <th>1</th>\n",
       "      <td>1743033600000000000</td>\n",
       "      <td>93618</td>\n",
       "      <td>0</td>\n",
       "      <td>0</td>\n",
       "      <td>0</td>\n",
       "      <td>0</td>\n",
       "      <td>0</td>\n",
       "      <td>0</td>\n",
       "      <td>0</td>\n",
       "      <td>0</td>\n",
       "      <td>...</td>\n",
       "      <td>0</td>\n",
       "      <td>0</td>\n",
       "      <td>0</td>\n",
       "      <td>0</td>\n",
       "      <td>0</td>\n",
       "      <td>1</td>\n",
       "      <td>0</td>\n",
       "      <td>0</td>\n",
       "      <td>0</td>\n",
       "      <td>0</td>\n",
       "    </tr>\n",
       "    <tr>\n",
       "      <th>2</th>\n",
       "      <td>1742774400000000000</td>\n",
       "      <td>93617</td>\n",
       "      <td>0</td>\n",
       "      <td>0</td>\n",
       "      <td>0</td>\n",
       "      <td>0</td>\n",
       "      <td>0</td>\n",
       "      <td>0</td>\n",
       "      <td>0</td>\n",
       "      <td>0</td>\n",
       "      <td>...</td>\n",
       "      <td>0</td>\n",
       "      <td>0</td>\n",
       "      <td>0</td>\n",
       "      <td>0</td>\n",
       "      <td>0</td>\n",
       "      <td>1</td>\n",
       "      <td>0</td>\n",
       "      <td>0</td>\n",
       "      <td>0</td>\n",
       "      <td>0</td>\n",
       "    </tr>\n",
       "    <tr>\n",
       "      <th>3</th>\n",
       "      <td>1742774400000000000</td>\n",
       "      <td>94277</td>\n",
       "      <td>0</td>\n",
       "      <td>0</td>\n",
       "      <td>0</td>\n",
       "      <td>0</td>\n",
       "      <td>0</td>\n",
       "      <td>1</td>\n",
       "      <td>0</td>\n",
       "      <td>0</td>\n",
       "      <td>...</td>\n",
       "      <td>0</td>\n",
       "      <td>0</td>\n",
       "      <td>0</td>\n",
       "      <td>0</td>\n",
       "      <td>0</td>\n",
       "      <td>0</td>\n",
       "      <td>0</td>\n",
       "      <td>0</td>\n",
       "      <td>0</td>\n",
       "      <td>0</td>\n",
       "    </tr>\n",
       "    <tr>\n",
       "      <th>4</th>\n",
       "      <td>1742688000000000000</td>\n",
       "      <td>93625</td>\n",
       "      <td>0</td>\n",
       "      <td>0</td>\n",
       "      <td>0</td>\n",
       "      <td>0</td>\n",
       "      <td>0</td>\n",
       "      <td>1</td>\n",
       "      <td>0</td>\n",
       "      <td>0</td>\n",
       "      <td>...</td>\n",
       "      <td>0</td>\n",
       "      <td>0</td>\n",
       "      <td>0</td>\n",
       "      <td>0</td>\n",
       "      <td>0</td>\n",
       "      <td>1</td>\n",
       "      <td>0</td>\n",
       "      <td>0</td>\n",
       "      <td>0</td>\n",
       "      <td>0</td>\n",
       "    </tr>\n",
       "    <tr>\n",
       "      <th>...</th>\n",
       "      <td>...</td>\n",
       "      <td>...</td>\n",
       "      <td>...</td>\n",
       "      <td>...</td>\n",
       "      <td>...</td>\n",
       "      <td>...</td>\n",
       "      <td>...</td>\n",
       "      <td>...</td>\n",
       "      <td>...</td>\n",
       "      <td>...</td>\n",
       "      <td>...</td>\n",
       "      <td>...</td>\n",
       "      <td>...</td>\n",
       "      <td>...</td>\n",
       "      <td>...</td>\n",
       "      <td>...</td>\n",
       "      <td>...</td>\n",
       "      <td>...</td>\n",
       "      <td>...</td>\n",
       "      <td>...</td>\n",
       "      <td>...</td>\n",
       "    </tr>\n",
       "    <tr>\n",
       "      <th>214</th>\n",
       "      <td>1735862400000000000</td>\n",
       "      <td>88235</td>\n",
       "      <td>0</td>\n",
       "      <td>0</td>\n",
       "      <td>0</td>\n",
       "      <td>1</td>\n",
       "      <td>0</td>\n",
       "      <td>0</td>\n",
       "      <td>0</td>\n",
       "      <td>0</td>\n",
       "      <td>...</td>\n",
       "      <td>0</td>\n",
       "      <td>0</td>\n",
       "      <td>0</td>\n",
       "      <td>0</td>\n",
       "      <td>0</td>\n",
       "      <td>1</td>\n",
       "      <td>0</td>\n",
       "      <td>0</td>\n",
       "      <td>0</td>\n",
       "      <td>0</td>\n",
       "    </tr>\n",
       "    <tr>\n",
       "      <th>215</th>\n",
       "      <td>1735776000000000000</td>\n",
       "      <td>91706</td>\n",
       "      <td>0</td>\n",
       "      <td>0</td>\n",
       "      <td>0</td>\n",
       "      <td>0</td>\n",
       "      <td>0</td>\n",
       "      <td>1</td>\n",
       "      <td>0</td>\n",
       "      <td>0</td>\n",
       "      <td>...</td>\n",
       "      <td>0</td>\n",
       "      <td>0</td>\n",
       "      <td>0</td>\n",
       "      <td>1</td>\n",
       "      <td>0</td>\n",
       "      <td>0</td>\n",
       "      <td>0</td>\n",
       "      <td>0</td>\n",
       "      <td>0</td>\n",
       "      <td>0</td>\n",
       "    </tr>\n",
       "    <tr>\n",
       "      <th>216</th>\n",
       "      <td>1735776000000000000</td>\n",
       "      <td>91548</td>\n",
       "      <td>0</td>\n",
       "      <td>0</td>\n",
       "      <td>0</td>\n",
       "      <td>0</td>\n",
       "      <td>0</td>\n",
       "      <td>0</td>\n",
       "      <td>0</td>\n",
       "      <td>0</td>\n",
       "      <td>...</td>\n",
       "      <td>0</td>\n",
       "      <td>0</td>\n",
       "      <td>0</td>\n",
       "      <td>1</td>\n",
       "      <td>0</td>\n",
       "      <td>0</td>\n",
       "      <td>0</td>\n",
       "      <td>0</td>\n",
       "      <td>0</td>\n",
       "      <td>0</td>\n",
       "    </tr>\n",
       "    <tr>\n",
       "      <th>217</th>\n",
       "      <td>1735776000000000000</td>\n",
       "      <td>92677</td>\n",
       "      <td>0</td>\n",
       "      <td>0</td>\n",
       "      <td>0</td>\n",
       "      <td>0</td>\n",
       "      <td>0</td>\n",
       "      <td>0</td>\n",
       "      <td>0</td>\n",
       "      <td>0</td>\n",
       "      <td>...</td>\n",
       "      <td>0</td>\n",
       "      <td>0</td>\n",
       "      <td>1</td>\n",
       "      <td>0</td>\n",
       "      <td>0</td>\n",
       "      <td>0</td>\n",
       "      <td>0</td>\n",
       "      <td>1</td>\n",
       "      <td>0</td>\n",
       "      <td>0</td>\n",
       "    </tr>\n",
       "    <tr>\n",
       "      <th>218</th>\n",
       "      <td>1735776000000000000</td>\n",
       "      <td>88231</td>\n",
       "      <td>0</td>\n",
       "      <td>0</td>\n",
       "      <td>0</td>\n",
       "      <td>1</td>\n",
       "      <td>0</td>\n",
       "      <td>0</td>\n",
       "      <td>0</td>\n",
       "      <td>0</td>\n",
       "      <td>...</td>\n",
       "      <td>0</td>\n",
       "      <td>0</td>\n",
       "      <td>0</td>\n",
       "      <td>0</td>\n",
       "      <td>0</td>\n",
       "      <td>0</td>\n",
       "      <td>0</td>\n",
       "      <td>1</td>\n",
       "      <td>0</td>\n",
       "      <td>0</td>\n",
       "    </tr>\n",
       "  </tbody>\n",
       "</table>\n",
       "<p>219 rows × 298 columns</p>\n",
       "</div>"
      ],
      "text/plain": [
       "                    Date  SiND Event ID  Country_DRC  Country_Ethiopia  \\\n",
       "0    1744848000000000000          94309            0                 0   \n",
       "1    1743033600000000000          93618            0                 0   \n",
       "2    1742774400000000000          93617            0                 0   \n",
       "3    1742774400000000000          94277            0                 0   \n",
       "4    1742688000000000000          93625            0                 0   \n",
       "..                   ...            ...          ...               ...   \n",
       "214  1735862400000000000          88235            0                 0   \n",
       "215  1735776000000000000          91706            0                 0   \n",
       "216  1735776000000000000          91548            0                 0   \n",
       "217  1735776000000000000          92677            0                 0   \n",
       "218  1735776000000000000          88231            0                 0   \n",
       "\n",
       "     Country_Israel  Country_Myanmar  Country_Nigeria  Country_OPT  \\\n",
       "0                 0                0                0            0   \n",
       "1                 0                0                0            0   \n",
       "2                 0                0                0            0   \n",
       "3                 0                0                0            1   \n",
       "4                 0                0                0            1   \n",
       "..              ...              ...              ...          ...   \n",
       "214               0                1                0            0   \n",
       "215               0                0                0            1   \n",
       "216               0                0                0            0   \n",
       "217               0                0                0            0   \n",
       "218               0                1                0            0   \n",
       "\n",
       "     Country_Russia  Country_Sudan  ...  \\\n",
       "0                 0              0  ...   \n",
       "1                 0              0  ...   \n",
       "2                 0              0  ...   \n",
       "3                 0              0  ...   \n",
       "4                 0              0  ...   \n",
       "..              ...            ...  ...   \n",
       "214               0              0  ...   \n",
       "215               0              0  ...   \n",
       "216               0              0  ...   \n",
       "217               0              0  ...   \n",
       "218               0              0  ...   \n",
       "\n",
       "     Reported Perpetrator Name_Sudan People's Liberation Movement - North  \\\n",
       "0                                                    0                      \n",
       "1                                                    0                      \n",
       "2                                                    0                      \n",
       "3                                                    0                      \n",
       "4                                                    0                      \n",
       "..                                                 ...                      \n",
       "214                                                  0                      \n",
       "215                                                  0                      \n",
       "216                                                  0                      \n",
       "217                                                  0                      \n",
       "218                                                  0                      \n",
       "\n",
       "     Reported Perpetrator Name_Syrian National Army (SNA)  \\\n",
       "0                                                    0      \n",
       "1                                                    0      \n",
       "2                                                    0      \n",
       "3                                                    0      \n",
       "4                                                    0      \n",
       "..                                                 ...      \n",
       "214                                                  0      \n",
       "215                                                  0      \n",
       "216                                                  0      \n",
       "217                                                  0      \n",
       "218                                                  0      \n",
       "\n",
       "     Reported Perpetrator Name_Unidentified Armed Actor  \\\n",
       "0                                                    1    \n",
       "1                                                    0    \n",
       "2                                                    0    \n",
       "3                                                    0    \n",
       "4                                                    0    \n",
       "..                                                 ...    \n",
       "214                                                  0    \n",
       "215                                                  0    \n",
       "216                                                  0    \n",
       "217                                                  1    \n",
       "218                                                  0    \n",
       "\n",
       "     Affected_Education Infrastructure  Affected_Food Infrastructure  \\\n",
       "0                                    0                             0   \n",
       "1                                    0                             0   \n",
       "2                                    0                             0   \n",
       "3                                    0                             0   \n",
       "4                                    0                             0   \n",
       "..                                 ...                           ...   \n",
       "214                                  0                             0   \n",
       "215                                  1                             0   \n",
       "216                                  1                             0   \n",
       "217                                  0                             0   \n",
       "218                                  0                             0   \n",
       "\n",
       "     Affected_Health Infrastructure  Affected_Health Worker  \\\n",
       "0                                 1                       0   \n",
       "1                                 1                       0   \n",
       "2                                 1                       0   \n",
       "3                                 0                       0   \n",
       "4                                 1                       0   \n",
       "..                              ...                     ...   \n",
       "214                               1                       0   \n",
       "215                               0                       0   \n",
       "216                               0                       0   \n",
       "217                               0                       0   \n",
       "218                               0                       0   \n",
       "\n",
       "     Affected_Multiple  Affected_Other  Affected_Protection Infrastructure  \n",
       "0                    0               0                                   0  \n",
       "1                    0               0                                   0  \n",
       "2                    0               0                                   0  \n",
       "3                    0               0                                   0  \n",
       "4                    0               0                                   0  \n",
       "..                 ...             ...                                 ...  \n",
       "214                  0               0                                   0  \n",
       "215                  0               0                                   0  \n",
       "216                  0               0                                   0  \n",
       "217                  1               0                                   0  \n",
       "218                  1               0                                   0  \n",
       "\n",
       "[219 rows x 298 columns]"
      ]
     },
     "execution_count": 42,
     "metadata": {},
     "output_type": "execute_result"
    }
   ],
   "source": [
    "X_encoded"
   ]
  },
  {
   "cell_type": "markdown",
   "id": "4ea8c928",
   "metadata": {},
   "source": [
    "### Checking the correlation of the target Columns with others"
   ]
  },
  {
   "cell_type": "code",
   "execution_count": 43,
   "id": "4b0c582f",
   "metadata": {},
   "outputs": [
    {
     "data": {
      "text/plain": [
       "Date                                  0.061796\n",
       "SiND Event ID                        -0.041515\n",
       "Country_DRC                           0.178378\n",
       "Country_Ethiopia                     -0.058269\n",
       "Country_Israel                       -0.040773\n",
       "                                        ...   \n",
       "Affected_Health Worker                0.055796\n",
       "Affected_Multiple                    -0.066337\n",
       "Affected_Other                        0.032388\n",
       "Affected_Protection Infrastructure   -0.070948\n",
       "Explosive Weapon Type                 1.000000\n",
       "Name: Explosive Weapon Type, Length: 299, dtype: float64"
      ]
     },
     "execution_count": 43,
     "metadata": {},
     "output_type": "execute_result"
    }
   ],
   "source": [
    "df_corr = pd.DataFrame(X_encoded)\n",
    "df_corr['Explosive Weapon Type'] = y_encoded\n",
    "\n",
    "df_corr.corr()['Explosive Weapon Type']"
   ]
  },
  {
   "cell_type": "markdown",
   "id": "d18b38f4",
   "metadata": {},
   "source": [
    "### Splitting data and doing the train using different models"
   ]
  },
  {
   "cell_type": "code",
   "execution_count": 44,
   "id": "5aace902",
   "metadata": {},
   "outputs": [],
   "source": [
    "#Splitting the data into training and testing sets\n",
    "\n",
    "X_train,X_test,y_train,y_test=train_test_split(X_encoded,y_encoded,random_state=42,test_size=0.2,)"
   ]
  },
  {
   "cell_type": "markdown",
   "id": "ae5d1c10",
   "metadata": {},
   "source": [
    "### Logical Regression"
   ]
  },
  {
   "cell_type": "code",
   "execution_count": 45,
   "id": "54c2ab9e",
   "metadata": {},
   "outputs": [
    {
     "name": "stdout",
     "output_type": "stream",
     "text": [
      "0.7727272727272727\n",
      "              precision    recall  f1-score   support\n",
      "\n",
      "           0       0.77      1.00      0.87        34\n",
      "           1       0.00      0.00      0.00         3\n",
      "           2       0.00      0.00      0.00         1\n",
      "           4       0.00      0.00      0.00         1\n",
      "           6       0.00      0.00      0.00         1\n",
      "           7       0.00      0.00      0.00         1\n",
      "           8       0.00      0.00      0.00         2\n",
      "           9       0.00      0.00      0.00         1\n",
      "\n",
      "    accuracy                           0.77        44\n",
      "   macro avg       0.10      0.12      0.11        44\n",
      "weighted avg       0.60      0.77      0.67        44\n",
      "\n"
     ]
    },
    {
     "name": "stderr",
     "output_type": "stream",
     "text": [
      "/home/alex/anaconda3/lib/python3.12/site-packages/sklearn/metrics/_classification.py:1531: UndefinedMetricWarning: Precision is ill-defined and being set to 0.0 in labels with no predicted samples. Use `zero_division` parameter to control this behavior.\n",
      "  _warn_prf(average, modifier, f\"{metric.capitalize()} is\", len(result))\n",
      "/home/alex/anaconda3/lib/python3.12/site-packages/sklearn/metrics/_classification.py:1531: UndefinedMetricWarning: Precision is ill-defined and being set to 0.0 in labels with no predicted samples. Use `zero_division` parameter to control this behavior.\n",
      "  _warn_prf(average, modifier, f\"{metric.capitalize()} is\", len(result))\n",
      "/home/alex/anaconda3/lib/python3.12/site-packages/sklearn/metrics/_classification.py:1531: UndefinedMetricWarning: Precision is ill-defined and being set to 0.0 in labels with no predicted samples. Use `zero_division` parameter to control this behavior.\n",
      "  _warn_prf(average, modifier, f\"{metric.capitalize()} is\", len(result))\n"
     ]
    }
   ],
   "source": [
    "logistic_regression = LogisticRegression()\n",
    "logistic_regression.fit(X_train,y_train)\n",
    "y_pred =logistic_regression.predict(X_test)\n",
    "acc = accuracy_score(y_test,y_pred)\n",
    "print(acc) \n",
    "print(classification_report(y_test,y_pred))"
   ]
  },
  {
   "cell_type": "markdown",
   "id": "86058ed3",
   "metadata": {},
   "source": [
    "### Decision Tree"
   ]
  },
  {
   "cell_type": "code",
   "execution_count": 46,
   "id": "c6239302",
   "metadata": {},
   "outputs": [
    {
     "name": "stdout",
     "output_type": "stream",
     "text": [
      "0.8409090909090909\n",
      "              precision    recall  f1-score   support\n",
      "\n",
      "           0       1.00      1.00      1.00        34\n",
      "           1       0.50      0.33      0.40         3\n",
      "           2       0.00      0.00      0.00         1\n",
      "           4       0.00      0.00      0.00         1\n",
      "           6       0.00      0.00      0.00         1\n",
      "           7       0.00      0.00      0.00         1\n",
      "           8       0.17      0.50      0.25         2\n",
      "           9       1.00      1.00      1.00         1\n",
      "          11       0.00      0.00      0.00         0\n",
      "\n",
      "    accuracy                           0.84        44\n",
      "   macro avg       0.30      0.31      0.29        44\n",
      "weighted avg       0.84      0.84      0.83        44\n",
      "\n"
     ]
    },
    {
     "name": "stderr",
     "output_type": "stream",
     "text": [
      "/home/alex/anaconda3/lib/python3.12/site-packages/sklearn/metrics/_classification.py:1531: UndefinedMetricWarning: Precision is ill-defined and being set to 0.0 in labels with no predicted samples. Use `zero_division` parameter to control this behavior.\n",
      "  _warn_prf(average, modifier, f\"{metric.capitalize()} is\", len(result))\n",
      "/home/alex/anaconda3/lib/python3.12/site-packages/sklearn/metrics/_classification.py:1531: UndefinedMetricWarning: Recall is ill-defined and being set to 0.0 in labels with no true samples. Use `zero_division` parameter to control this behavior.\n",
      "  _warn_prf(average, modifier, f\"{metric.capitalize()} is\", len(result))\n",
      "/home/alex/anaconda3/lib/python3.12/site-packages/sklearn/metrics/_classification.py:1531: UndefinedMetricWarning: Precision is ill-defined and being set to 0.0 in labels with no predicted samples. Use `zero_division` parameter to control this behavior.\n",
      "  _warn_prf(average, modifier, f\"{metric.capitalize()} is\", len(result))\n",
      "/home/alex/anaconda3/lib/python3.12/site-packages/sklearn/metrics/_classification.py:1531: UndefinedMetricWarning: Recall is ill-defined and being set to 0.0 in labels with no true samples. Use `zero_division` parameter to control this behavior.\n",
      "  _warn_prf(average, modifier, f\"{metric.capitalize()} is\", len(result))\n",
      "/home/alex/anaconda3/lib/python3.12/site-packages/sklearn/metrics/_classification.py:1531: UndefinedMetricWarning: Precision is ill-defined and being set to 0.0 in labels with no predicted samples. Use `zero_division` parameter to control this behavior.\n",
      "  _warn_prf(average, modifier, f\"{metric.capitalize()} is\", len(result))\n",
      "/home/alex/anaconda3/lib/python3.12/site-packages/sklearn/metrics/_classification.py:1531: UndefinedMetricWarning: Recall is ill-defined and being set to 0.0 in labels with no true samples. Use `zero_division` parameter to control this behavior.\n",
      "  _warn_prf(average, modifier, f\"{metric.capitalize()} is\", len(result))\n"
     ]
    }
   ],
   "source": [
    "d_tree = DecisionTreeClassifier()\n",
    "d_tree.fit(X_train,y_train)\n",
    "y_pred =d_tree.predict(X_test)\n",
    "acc = accuracy_score(y_test,y_pred)\n",
    "print(acc) \n",
    "print(classification_report(y_test,y_pred))"
   ]
  },
  {
   "cell_type": "code",
   "execution_count": 50,
   "id": "92c27d83",
   "metadata": {},
   "outputs": [
    {
     "data": {
      "image/png": "[encoded data removed]",
      "text/plain": [
       "<Figure size 640x480 with 2 Axes>"
      ]
     },
     "metadata": {},
     "output_type": "display_data"
    }
   ],
   "source": [
    "from sklearn.metrics import ConfusionMatrixDisplay\n",
    "\n",
    "ConfusionMatrixDisplay.from_estimator(d_tree, X_test, y_test)\n",
    "plt.show()"
   ]
  },
  {
   "cell_type": "markdown",
   "id": "bec969ae",
   "metadata": {},
   "source": [
    "### Random Forest"
   ]
  },
  {
   "cell_type": "code",
   "execution_count": 47,
   "id": "8a3cc5f2",
   "metadata": {},
   "outputs": [
    {
     "name": "stdout",
     "output_type": "stream",
     "text": [
      "0.8409090909090909\n",
      "              precision    recall  f1-score   support\n",
      "\n",
      "           0       0.94      0.97      0.96        34\n",
      "           1       1.00      0.33      0.50         3\n",
      "           2       0.00      0.00      0.00         1\n",
      "           4       0.00      0.00      0.00         1\n",
      "           6       0.00      0.00      0.00         1\n",
      "           7       0.00      0.00      0.00         1\n",
      "           8       0.29      1.00      0.44         2\n",
      "           9       1.00      1.00      1.00         1\n",
      "\n",
      "    accuracy                           0.84        44\n",
      "   macro avg       0.40      0.41      0.36        44\n",
      "weighted avg       0.83      0.84      0.82        44\n",
      "\n"
     ]
    },
    {
     "name": "stderr",
     "output_type": "stream",
     "text": [
      "/home/alex/anaconda3/lib/python3.12/site-packages/sklearn/metrics/_classification.py:1531: UndefinedMetricWarning: Precision is ill-defined and being set to 0.0 in labels with no predicted samples. Use `zero_division` parameter to control this behavior.\n",
      "  _warn_prf(average, modifier, f\"{metric.capitalize()} is\", len(result))\n",
      "/home/alex/anaconda3/lib/python3.12/site-packages/sklearn/metrics/_classification.py:1531: UndefinedMetricWarning: Precision is ill-defined and being set to 0.0 in labels with no predicted samples. Use `zero_division` parameter to control this behavior.\n",
      "  _warn_prf(average, modifier, f\"{metric.capitalize()} is\", len(result))\n",
      "/home/alex/anaconda3/lib/python3.12/site-packages/sklearn/metrics/_classification.py:1531: UndefinedMetricWarning: Precision is ill-defined and being set to 0.0 in labels with no predicted samples. Use `zero_division` parameter to control this behavior.\n",
      "  _warn_prf(average, modifier, f\"{metric.capitalize()} is\", len(result))\n"
     ]
    }
   ],
   "source": [
    "Random_forest = RandomForestClassifier()\n",
    "Random_forest.fit(X_train,y_train)\n",
    "y_pred =Random_forest.predict(X_test)\n",
    "acc = accuracy_score(y_test,y_pred)\n",
    "print(acc) \n",
    "print(classification_report(y_test,y_pred))"
   ]
  }
 ],
 "metadata": {
  "kernelspec": {
   "display_name": "base",
   "language": "python",
   "name": "python3"
  },
  "language_info": {
   "codemirror_mode": {
    "name": "ipython",
    "version": 3
   },
   "file_extension": ".py",
   "mimetype": "text/x-python",
   "name": "python",
   "nbconvert_exporter": "python",
   "pygments_lexer": "ipython3",
   "version": "3.12.7"
  }
 },
 "nbformat": 4,
 "nbformat_minor": 5
}
